{
  "cells": [
    {
      "cell_type": "markdown",
      "metadata": {
        "id": "Tzy8idckfetk"
      },
      "source": [
        "## Importing Libraries"
      ]
    },
    {
      "cell_type": "code",
      "execution_count": 8,
      "metadata": {
        "id": "kdWnapkqf-SH"
      },
      "outputs": [],
      "source": [
        "# !pip install yfinance\n",
        "# %pip install localpip\n",
        "# !localpip install fbprophet"
      ]
    },
    {
      "cell_type": "code",
      "execution_count": 9,
      "metadata": {
        "id": "mj-8tmg4r9oD"
      },
      "outputs": [
        {
          "ename": "ModuleNotFoundError",
          "evalue": "No module named 'fbprophet'",
          "output_type": "error",
          "traceback": [
            "\u001b[0;31m---------------------------------------------------------------------------\u001b[0m",
            "\u001b[0;31mModuleNotFoundError\u001b[0m                       Traceback (most recent call last)",
            "\u001b[0;32m/var/folders/42/0lky7kn128z7ldb8l3r9lwhc0000gn/T/ipykernel_55215/4031023193.py\u001b[0m in \u001b[0;36m<module>\u001b[0;34m\u001b[0m\n\u001b[0;32m----> 1\u001b[0;31m \u001b[0;32mimport\u001b[0m \u001b[0mfbprophet\u001b[0m\u001b[0;34m\u001b[0m\u001b[0;34m\u001b[0m\u001b[0m\n\u001b[0m\u001b[1;32m      2\u001b[0m \u001b[0;32mimport\u001b[0m \u001b[0mprophet\u001b[0m\u001b[0;34m\u001b[0m\u001b[0;34m\u001b[0m\u001b[0m\n\u001b[1;32m      3\u001b[0m \u001b[0;32mimport\u001b[0m \u001b[0mpandas\u001b[0m \u001b[0;32mas\u001b[0m \u001b[0mpd\u001b[0m\u001b[0;34m\u001b[0m\u001b[0;34m\u001b[0m\u001b[0m\n\u001b[1;32m      4\u001b[0m \u001b[0;32mimport\u001b[0m \u001b[0mmatplotlib\u001b[0m\u001b[0;34m.\u001b[0m\u001b[0mpyplot\u001b[0m \u001b[0;32mas\u001b[0m \u001b[0mplt\u001b[0m\u001b[0;34m\u001b[0m\u001b[0;34m\u001b[0m\u001b[0m\n\u001b[1;32m      5\u001b[0m \u001b[0;32mimport\u001b[0m \u001b[0mnumpy\u001b[0m \u001b[0;32mas\u001b[0m \u001b[0mnp\u001b[0m\u001b[0;34m\u001b[0m\u001b[0;34m\u001b[0m\u001b[0m\n",
            "\u001b[0;31mModuleNotFoundError\u001b[0m: No module named 'fbprophet'"
          ]
        }
      ],
      "source": [
        "import fbprophet\n",
        "import prophet\n",
        "import pandas as pd\n",
        "import matplotlib.pyplot as plt\n",
        "import numpy as np\n",
        "from dateutil.parser import parse\n",
        "from fbprophet.plot import plot_cross_validation_metric\n",
        "from fbprophet.diagnostics import cross_validation\n",
        "from fbprophet.diagnostics import performance_metrics\n",
        "from fbprophet import Prophet\n",
        "\n",
        "import time\n",
        "import pandas as pd\n",
        "import yfinance as yahooFinance\n",
        "from datetime import datetime, timedelta, date\n",
        "\n",
        "import pickle\n",
        "import json\n",
        "from prophet.serialize import model_to_json, model_from_json\n",
        "# from stock_download_pipeline.ipynb import *"
      ]
    },
    {
      "cell_type": "markdown",
      "metadata": {
        "id": "y_-FMTczfetp"
      },
      "source": [
        "## Defining Functions"
      ]
    },
    {
      "cell_type": "code",
      "execution_count": 7,
      "metadata": {
        "id": "pIrNqqL4f1pY"
      },
      "outputs": [],
      "source": [
        "# Function to extract the data from yahoo finance\n",
        "\n",
        "def YahooFinanceHistory(company, previous_days, path_save_as_csv = False):\n",
        "\n",
        "    '''\n",
        "    \n",
        "    This function takes the company name and the number of previous days as input and returns the dataframe of the company history.\n",
        "\n",
        "    Variables:\n",
        "\n",
        "    company: string, name of the company\n",
        "    previous_days: int, number of days to extract data from\n",
        "    today: date, today's date\n",
        "    past: date, date of the past\n",
        "    query_string: string, query string to extract data from yahoo finance\n",
        "    company_prices: dataframe, dataframe containing the prices of the company\n",
        "    company_data: dataframe, dataframe containing the data of the company\n",
        "    valuation_measures: list, list containing the valuation measures interested in\n",
        "    company_valuation: dataframe, dataframe containing the valuation measures of the company\n",
        "    path_save_as_csv: boolean, True if the dataframe is to be saved as a csv file, False otherwise\n",
        "    \n",
        "    '''\n",
        "    \n",
        "    today = int(time.mktime((datetime.now()).timetuple()))\n",
        "    past = int(time.mktime((datetime.now() - timedelta(previous_days)).timetuple()))\n",
        "    \n",
        "    interval = '1d'\n",
        "\n",
        "    # defining the query to get historical stock data\n",
        "    query_string = f'https://query1.finance.yahoo.com/v7/finance/download/{company}?period1={past}&period2={today}&interval={interval}&events=history&includeAdjustedClose=true'\n",
        "    \n",
        "    company_prices = pd.read_csv(query_string)  \n",
        "\n",
        "    # extracting info from yahoo finance for the said company\n",
        "    company_data = yahooFinance.Ticker(f\"{company}\")\n",
        "\n",
        "    # valuation measures which we need\n",
        "    valuation_measures = ['marketCap', 'enterpriseValue', 'trailingPE', 'forwardPE', 'pegRatio', 'priceToSalesTrailing12Months', 'priceToBook', 'enterpriseToRevenue', 'enterpriseToEbitda']\n",
        "\n",
        "    # storing the chosen measures to a list\n",
        "    values = []\n",
        "    for i in valuation_measures:\n",
        "        values.append(company_data.info[i])\n",
        "\n",
        "    #make df to store company valuation data\n",
        "\n",
        "    company_valuation = pd.DataFrame([values], columns = valuation_measures)\n",
        "    \n",
        "    company_valuation.insert(0, column = 'date', value = date.today())\n",
        "\n",
        "    company_valuation.insert(1, column = 'company', value = company)\n",
        "\n",
        "    if path_save_as_csv != False:\n",
        "        company_prices.to_csv(f'{path_save_as_csv}/{company}_prices.csv')\n",
        "        company_valuation.to_csv(f'{path_save_as_csv}/{company}_valuation.csv')\n",
        "\n",
        "    return company_prices, company_valuation"
      ]
    },
    {
      "cell_type": "code",
      "execution_count": 8,
      "metadata": {
        "id": "r-an6YaalVVO"
      },
      "outputs": [],
      "source": [
        "def get_mape(y_true, y_pred): \n",
        "    \"\"\"\n",
        "    Compute mean absolute percentage error (MAPE)\n",
        "    \"\"\"\n",
        "    y_true, y_pred = np.array(y_true), np.array(y_pred)\n",
        "    return np.mean(np.abs((y_true - y_pred) / y_true)) * 100"
      ]
    },
    {
      "cell_type": "code",
      "execution_count": 9,
      "metadata": {
        "id": "ZixxLppRfetq"
      },
      "outputs": [],
      "source": [
        "def read_data(company, previous_days, holidays_list_path = 0):\n",
        "\n",
        "    company_prices, company_valuation = YahooFinanceHistory(company, previous_days)\n",
        "    company_prices = company_prices[['Date', 'Close']]\n",
        "    company_prices.columns = ['ds', 'y']\n",
        "    company_prices['ds'] = pd.to_datetime(company_prices['ds'])\n",
        "\n",
        "    if holidays_list_path.endswith('.xls') == True:\n",
        "        holidays_list = pd.read_excel(holidays_list_path)\n",
        "\n",
        "    elif holidays_list_path.endswith('.csv') == True:\n",
        "        holidays_list = pd.read_csv(holidays_list_path)\n",
        "\n",
        "    elif holidays_list_path.endswith('.xlsx') == True:\n",
        "        holidays_list = pd.read_excel(holidays_list_path)\n",
        "\n",
        "    else:\n",
        "        print('File type not supported')\n",
        "\n",
        "    for i in range(len(holidays_list['Day'])):\n",
        "        holidays_list['Day'][i] = pd.to_datetime(parse(holidays_list['Day'][i]))\n",
        "\n",
        "    holidays_list = holidays_list[['Holiday','Day']]\n",
        "    holidays_list = holidays_list.rename({'Day':'ds', 'Holiday':'holiday'}, axis = 1)   \n",
        "\n",
        "    return company_prices, holidays_list"
      ]
    },
    {
      "cell_type": "code",
      "execution_count": 1,
      "metadata": {},
      "outputs": [],
      "source": [
        "def model_building_prophet(company, company_prices, holidays_list, h, train_size, eliminate_weekends, save_model = False):\n",
        "\n",
        "# defining the hyperparameters for the model building\n",
        "\n",
        "    if holidays_list is not None:\n",
        "\n",
        "        # variables for the model building and their meaning:\n",
        "        '''\n",
        "        holidays: list, list of holidays\n",
        "        n_changepoints: int, number of changepoints. Change points are abrupt variations in time series data. (n_changepoints = 1 means there is only one changepoint.)\n",
        "        n_changepoints_scale: float, scale of the number of changepoints \n",
        "        changepoint_prior_scale: float, scale of the changepoint prior\n",
        "        yearly_seasonality: boolean, True if yearly seasonality is to be used, False otherwise\n",
        "        weekly_seasonality: boolean, True if weekly seasonality is to be used, False otherwise\n",
        "        daily_seasonality: boolean, True if daily seasonality is to be used, False otherwise\n",
        "        holidays_prior_scale: float, scale of the holiday prior\n",
        "        holidays_yearly_prior_scale: float, scale of the yearly holiday prior\n",
        "        fourier_order: int, order of the fourier series. How quickly the seasonility of the time series can change.\n",
        "        '''\n",
        "\n",
        "        m = Prophet(growth=\"linear\",\n",
        "            holidays= holidays_list,\n",
        "            seasonality_mode=\"multiplicative\",\n",
        "            changepoint_prior_scale=30,\n",
        "            seasonality_prior_scale=35,\n",
        "            holidays_prior_scale=20,\n",
        "            daily_seasonality=False,\n",
        "            weekly_seasonality=False,\n",
        "            yearly_seasonality=False,\n",
        "            ).add_seasonality(\n",
        "                name='monthly',\n",
        "                period=30.5,\n",
        "                fourier_order=55\n",
        "            ).add_seasonality(\n",
        "                name=\"daily\",\n",
        "                period=1,\n",
        "                fourier_order=15\n",
        "            ).add_seasonality(\n",
        "                name=\"weekly\",\n",
        "                period=7,\n",
        "                fourier_order=20\n",
        "            ).add_seasonality(\n",
        "                name=\"yearly\",\n",
        "                period=365.25,\n",
        "                fourier_order=20\n",
        "            ).add_seasonality(\n",
        "                name=\"quarterly\",\n",
        "                period = 365.25/4,\n",
        "                fourier_order=5,\n",
        "                prior_scale = 15)\n",
        "    else:\n",
        "        m = Prophet(growth = 'linear')\n",
        "\n",
        "    model = m.fit(company_prices[0:train_size])\n",
        "\n",
        "    future_dates = model.make_future_dataframe(periods = h)\n",
        "\n",
        "    if eliminate_weekends is not None:\n",
        "        future_dates['day'] = future_dates['ds'].dt.weekday\n",
        "        future_dates = future_dates[future_dates['day']<=4]\n",
        "    else:\n",
        "        pass\n",
        "\n",
        "    if save_model == True:\n",
        "        with open(f'/Users/advait_t/Desktop/Jio/Stock_Prediction/Stock_Prediction/models/{company}.json', 'w') as fout:\n",
        "            json.dump(model_to_json(model), fout)  # Save model\n",
        "\n",
        "    prediction = model.predict(future_dates)\n",
        "\n",
        "    return model, prediction, future_dates"
      ]
    },
    {
      "cell_type": "markdown",
      "metadata": {
        "id": "sW7uwYv_fetr"
      },
      "source": [
        "## Defining hyper parameters"
      ]
    },
    {
      "cell_type": "code",
      "execution_count": 12,
      "metadata": {
        "colab": {
          "base_uri": "https://localhost:8080/"
        },
        "id": "NEkBjlxJj9nN",
        "outputId": "be7dbf59-fb38-406c-8059-429966a4a8ee"
      },
      "outputs": [],
      "source": [
        "h = 5                           # prediction for H days\n",
        "train_size = 247*4              # Use 4 years of data as train set. Note there are about 252 trading days in a year\n",
        "val_size = 246                  # Use 1 year of data as validation set\n",
        "eliminate_weekends = True\n",
        "train_val_size = train_size + val_size\n",
        "company = 'RELIANCE.NS'\n",
        "\n",
        "holidays_list_path = '/content/2017-2022_Holidays_NSE_BSE_EQ_EQD.csv' # path to the holidays list\n",
        "company_prices, holidays_list = read_data(company, 365*5, holidays_list_path) # read data for 5 years\n",
        "model, prediction, future_dates = model_building_prophet(company, company_prices, holidays_list, h, train_size, eliminate_weekends, save_model = True)"
      ]
    },
    {
      "cell_type": "code",
      "execution_count": 8,
      "metadata": {
        "id": "cSRXGIg6t6XF"
      },
      "outputs": [],
      "source": [
        "# model = m.fit(company_prices[0:train_size])"
      ]
    },
    {
      "cell_type": "code",
      "execution_count": 9,
      "metadata": {
        "id": "AraxYP8QuLYe"
      },
      "outputs": [],
      "source": [
        "# future_dates = model.make_future_dataframe(periods = h)"
      ]
    },
    {
      "cell_type": "code",
      "execution_count": 10,
      "metadata": {
        "id": "pdPGpuKBgX5o"
      },
      "outputs": [],
      "source": [
        "# if eliminate_weekends is not None:\n",
        "#     future_dates['day'] = future_dates['ds'].dt.weekday\n",
        "#     future_dates = future_dates[future_dates['day']<=4]\n",
        "# else:\n",
        "#     pass"
      ]
    },
    {
      "cell_type": "code",
      "execution_count": 11,
      "metadata": {
        "id": "qWiXGBk2vJ7l"
      },
      "outputs": [],
      "source": [
        "# prediction = model.predict(future_dates)"
      ]
    },
    {
      "cell_type": "code",
      "execution_count": 12,
      "metadata": {
        "id": "bioaSUz7nJjh"
      },
      "outputs": [],
      "source": [
        "# pred = model.predict(company_prices[(train_size+1):])"
      ]
    },
    {
      "cell_type": "code",
      "execution_count": 13,
      "metadata": {
        "colab": {
          "base_uri": "https://localhost:8080/"
        },
        "id": "GsBjSKDDCEp-",
        "outputId": "73850f26-65f3-49f2-d621-7c0ef4e242a6"
      },
      "outputs": [
        {
          "name": "stdout",
          "output_type": "stream",
          "text": [
            "The MAPE for Test values (Last 1 year) and Predicted values(Last 1 year): 8%\n"
          ]
        }
      ],
      "source": [
        "# print('The MAPE for Test values (Last 1 year) and Predicted values(Last 1 year): %d%%' %get_mape(company_prices[(train_size+1):]['y'], pred['yhat']))"
      ]
    },
    {
      "cell_type": "code",
      "execution_count": 1,
      "metadata": {
        "colab": {
          "base_uri": "https://localhost:8080/",
          "height": 865
        },
        "id": "uPfH6oJjvjZU",
        "outputId": "d1f5a968-65ee-4f84-8b34-eb68afdfbdc8"
      },
      "outputs": [],
      "source": [
        "# model.plot(prediction)"
      ]
    },
    {
      "cell_type": "code",
      "execution_count": 15,
      "metadata": {
        "id": "X1avyMFo6-39"
      },
      "outputs": [],
      "source": [
        "# with open('RELIANCE_NS.json', 'w') as fout:\n",
        "#     json.dump(model_to_json(model), fout)  # Save model"
      ]
    },
    {
      "cell_type": "code",
      "execution_count": 16,
      "metadata": {
        "id": "7euKYXCvwe4G"
      },
      "outputs": [],
      "source": [
        "# df_cv = cross_validation(model, initial = f'{train_size} days', period = f'{round(h/2)} days', horizon = f'{h} days')"
      ]
    },
    {
      "cell_type": "code",
      "execution_count": 19,
      "metadata": {
        "id": "DCH8OWVWw9Jo"
      },
      "outputs": [],
      "source": [
        "# df_p = performance_metrics(df_cv)\n",
        "# df_p"
      ]
    },
    {
      "cell_type": "code",
      "execution_count": 18,
      "metadata": {
        "id": "EED4IrsYxLyP"
      },
      "outputs": [],
      "source": [
        "# fig = plot_cross_validation_metric(df_cv, metric = 'mape')"
      ]
    },
    {
      "cell_type": "code",
      "execution_count": 13,
      "metadata": {
        "id": "nP2M0H3F8AeT"
      },
      "outputs": [],
      "source": [
        "# to load model \n",
        "with open('/content/RELIANCE_NS.json', 'r') as fin:\n",
        "    saved_model = model_from_json(json.load(fin))  # Load model"
      ]
    },
    {
      "cell_type": "code",
      "execution_count": 14,
      "metadata": {
        "colab": {
          "base_uri": "https://localhost:8080/",
          "height": 721
        },
        "id": "EhIRSzPLCdyp",
        "outputId": "8e318620-f928-4b55-cb72-46b527c9264b"
      },
      "outputs": [],
      "source": [
        "saved_model.predict(company_prices[(train_size+1):])"
      ]
    },
    {
      "cell_type": "code",
      "execution_count": null,
      "metadata": {
        "id": "v6U8pshLx28H"
      },
      "outputs": [],
      "source": []
    },
    {
      "cell_type": "code",
      "execution_count": null,
      "metadata": {},
      "outputs": [],
      "source": []
    }
  ],
  "metadata": {
    "accelerator": "GPU",
    "colab": {
      "name": "prophet_model_building.ipynb",
      "provenance": []
    },
    "kernelspec": {
      "display_name": "Python 3.7.3 64-bit ('3.7.3')",
      "language": "python",
      "name": "python3"
    },
    "language_info": {
      "codemirror_mode": {
        "name": "ipython",
        "version": 3
      },
      "file_extension": ".py",
      "mimetype": "text/x-python",
      "name": "python",
      "nbconvert_exporter": "python",
      "pygments_lexer": "ipython3",
      "version": "3.7.3"
    },
    "vscode": {
      "interpreter": {
        "hash": "e83839002550c178b91698d27022efe3c8b0de2a1a759386c8f0400511012bdc"
      }
    }
  },
  "nbformat": 4,
  "nbformat_minor": 0
}
